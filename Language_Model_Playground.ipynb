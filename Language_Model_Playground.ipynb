{
  "nbformat": 4,
  "nbformat_minor": 0,
  "metadata": {
    "colab": {
      "name": "Language-Model-Playground.ipynb",
      "provenance": [],
      "authorship_tag": "ABX9TyPOc3w4+ICcaNVIoTQ5jdiz",
      "include_colab_link": true
    },
    "kernelspec": {
      "name": "python3",
      "display_name": "Python 3"
    }
  },
  "cells": [
    {
      "cell_type": "markdown",
      "metadata": {
        "id": "view-in-github",
        "colab_type": "text"
      },
      "source": [
        "<a href=\"https://colab.research.google.com/github/mananm98/Hindi-Text-Classification/blob/master/Language_Model_Playground.ipynb\" target=\"_parent\"><img src=\"https://colab.research.google.com/assets/colab-badge.svg\" alt=\"Open In Colab\"/></a>"
      ]
    },
    {
      "cell_type": "code",
      "metadata": {
        "id": "OncCzDMHZh3l",
        "colab_type": "code",
        "colab": {
          "base_uri": "https://localhost:8080/",
          "height": 34
        },
        "outputId": "3486e126-0bfc-499e-911a-71fd3505f8eb"
      },
      "source": [
        "# Import Models\n",
        "!pip install sentencepiece\n",
        "from fastai.basics import *\n",
        "from fastai.text import *\n",
        "import sentencepiece"
      ],
      "execution_count": 1,
      "outputs": [
        {
          "output_type": "stream",
          "text": [
            "Requirement already satisfied: sentencepiece in /usr/local/lib/python3.6/dist-packages (0.1.91)\n"
          ],
          "name": "stdout"
        }
      ]
    },
    {
      "cell_type": "code",
      "metadata": {
        "id": "N0PNFymyrYs0",
        "colab_type": "code",
        "colab": {
          "base_uri": "https://localhost:8080/",
          "height": 445
        },
        "cellView": "form",
        "outputId": "ce3ab85e-471b-4684-9f0d-1ae1fbe34c4b"
      },
      "source": [
        "#@markdown **Downloading Pretrained Language Model** \n",
        "!wget --load-cookies /tmp/cookies.txt \"https://docs.google.com/uc?export=download&confirm=$(wget --quiet --save-cookies /tmp/cookies.txt --keep-session-cookies --no-check-certificate 'https://docs.google.com/uc?export=download&id=1f-SaDhDcJKorF0SvUOxpGxOHQ00sB7fB' -O- | sed -rn 's/.*confirm=([0-9A-Za-z_]+).*/\\1\\n/p')&id=1f-SaDhDcJKorF0SvUOxpGxOHQ00sB7fB\" -O new_file && rm -rf /tmp/cookies.txt"
      ],
      "execution_count": 2,
      "outputs": [
        {
          "output_type": "stream",
          "text": [
            "--2020-06-10 13:57:17--  https://docs.google.com/uc?export=download&confirm=1Pic&id=1f-SaDhDcJKorF0SvUOxpGxOHQ00sB7fB\n",
            "Resolving docs.google.com (docs.google.com)... 108.177.12.102, 108.177.12.113, 108.177.12.100, ...\n",
            "Connecting to docs.google.com (docs.google.com)|108.177.12.102|:443... connected.\n",
            "HTTP request sent, awaiting response... 302 Moved Temporarily\n",
            "Location: https://doc-0c-04-docs.googleusercontent.com/docs/securesc/ilgk25jgrkjud7h8s0628db1il8mb2c8/n20bqte32tck9a16glk9982rl2tqmt5t/1591797375000/00363766231858376311/17205219321830730017Z/1f-SaDhDcJKorF0SvUOxpGxOHQ00sB7fB?e=download [following]\n",
            "--2020-06-10 13:57:17--  https://doc-0c-04-docs.googleusercontent.com/docs/securesc/ilgk25jgrkjud7h8s0628db1il8mb2c8/n20bqte32tck9a16glk9982rl2tqmt5t/1591797375000/00363766231858376311/17205219321830730017Z/1f-SaDhDcJKorF0SvUOxpGxOHQ00sB7fB?e=download\n",
            "Resolving doc-0c-04-docs.googleusercontent.com (doc-0c-04-docs.googleusercontent.com)... 172.217.203.132, 2607:f8b0:400c:c07::84\n",
            "Connecting to doc-0c-04-docs.googleusercontent.com (doc-0c-04-docs.googleusercontent.com)|172.217.203.132|:443... connected.\n",
            "HTTP request sent, awaiting response... 302 Found\n",
            "Location: https://docs.google.com/nonceSigner?nonce=i3jtctevp956a&continue=https://doc-0c-04-docs.googleusercontent.com/docs/securesc/ilgk25jgrkjud7h8s0628db1il8mb2c8/n20bqte32tck9a16glk9982rl2tqmt5t/1591797375000/00363766231858376311/17205219321830730017Z/1f-SaDhDcJKorF0SvUOxpGxOHQ00sB7fB?e%3Ddownload&hash=o21siklv5hevfql6k0mn5fqnhgsk39qr [following]\n",
            "--2020-06-10 13:57:17--  https://docs.google.com/nonceSigner?nonce=i3jtctevp956a&continue=https://doc-0c-04-docs.googleusercontent.com/docs/securesc/ilgk25jgrkjud7h8s0628db1il8mb2c8/n20bqte32tck9a16glk9982rl2tqmt5t/1591797375000/00363766231858376311/17205219321830730017Z/1f-SaDhDcJKorF0SvUOxpGxOHQ00sB7fB?e%3Ddownload&hash=o21siklv5hevfql6k0mn5fqnhgsk39qr\n",
            "Connecting to docs.google.com (docs.google.com)|108.177.12.102|:443... connected.\n",
            "HTTP request sent, awaiting response... 302 Found\n",
            "Location: https://doc-0c-04-docs.googleusercontent.com/docs/securesc/ilgk25jgrkjud7h8s0628db1il8mb2c8/n20bqte32tck9a16glk9982rl2tqmt5t/1591797375000/00363766231858376311/17205219321830730017Z/1f-SaDhDcJKorF0SvUOxpGxOHQ00sB7fB?e=download&nonce=i3jtctevp956a&user=17205219321830730017Z&hash=n5dfv31o3jhl399fujujlifalufibqk8 [following]\n",
            "--2020-06-10 13:57:17--  https://doc-0c-04-docs.googleusercontent.com/docs/securesc/ilgk25jgrkjud7h8s0628db1il8mb2c8/n20bqte32tck9a16glk9982rl2tqmt5t/1591797375000/00363766231858376311/17205219321830730017Z/1f-SaDhDcJKorF0SvUOxpGxOHQ00sB7fB?e=download&nonce=i3jtctevp956a&user=17205219321830730017Z&hash=n5dfv31o3jhl399fujujlifalufibqk8\n",
            "Connecting to doc-0c-04-docs.googleusercontent.com (doc-0c-04-docs.googleusercontent.com)|172.217.203.132|:443... connected.\n",
            "HTTP request sent, awaiting response... 200 OK\n",
            "Length: unspecified [application/zip]\n",
            "Saving to: ‘new_file’\n",
            "\n",
            "new_file                [              <=>   ] 185.62M  64.0MB/s    in 2.9s    \n",
            "\n",
            "2020-06-10 13:57:21 (64.0 MB/s) - ‘new_file’ saved [194632349]\n",
            "\n"
          ],
          "name": "stdout"
        }
      ]
    },
    {
      "cell_type": "code",
      "metadata": {
        "id": "wVvVX8vFsZHa",
        "colab_type": "code",
        "colab": {
          "base_uri": "https://localhost:8080/",
          "height": 119
        },
        "cellView": "form",
        "outputId": "4bf50aa7-db9d-484e-b38c-37f88c613382"
      },
      "source": [
        "#@markdown **Unzipping**\n",
        "!unzip new_file "
      ],
      "execution_count": 3,
      "outputs": [
        {
          "output_type": "stream",
          "text": [
            "Archive:  new_file\n",
            "  inflating: model_files/model_latest_vocab.pkl  \n",
            "  inflating: model_files/spm.vocab   \n",
            "  inflating: model_files/spm.model   \n",
            "  inflating: model_files/model_latest.pth  \n",
            "  inflating: model_files/Hindi_databunch  \n"
          ],
          "name": "stdout"
        }
      ]
    },
    {
      "cell_type": "code",
      "metadata": {
        "id": "P_LukdGmYqD-",
        "colab_type": "code",
        "colab": {}
      },
      "source": [
        "# Loading Databunch Object\n",
        "data = load_data(path = '/content/model_files',file = 'Hindi_databunch' , bs = 128)\n",
        "\n",
        "# Loading Language Model Learner\n",
        "learn = language_model_learner(data, AWD_LSTM, drop_mult = 0.5, pretrained = False)\n",
        "learn = learn.load('/content/model_files/model_latest')"
      ],
      "execution_count": 0,
      "outputs": []
    },
    {
      "cell_type": "code",
      "metadata": {
        "id": "eSYtd58BhICs",
        "colab_type": "code",
        "colab": {
          "base_uri": "https://localhost:8080/",
          "height": 34
        },
        "outputId": "069d23f0-450a-410c-bff6-9d96e924033f"
      },
      "source": [
        "cd model_files"
      ],
      "execution_count": 5,
      "outputs": [
        {
          "output_type": "stream",
          "text": [
            "/content/model_files\n"
          ],
          "name": "stdout"
        }
      ]
    },
    {
      "cell_type": "markdown",
      "metadata": {
        "id": "_I-7kayofV-L",
        "colab_type": "text"
      },
      "source": [
        "# **Predictions**\n",
        "- learn.predict( **Enter text to begin with**, n_words= **number of words to predict** , temperature = **Degree of randomness : 1 --> max_randomness 0 --> minimum randomness** )"
      ]
    },
    {
      "cell_type": "code",
      "metadata": {
        "id": "Ltjp1HatstXO",
        "colab_type": "code",
        "colab": {
          "base_uri": "https://localhost:8080/",
          "height": 34
        },
        "cellView": "both",
        "outputId": "ab3f6702-8fc7-4516-9515-aeaa4c661de1"
      },
      "source": [
        "print(learn.predict('हिन्दू देवता हनुमान',n_words=40,temperature = 0.6).replace('▁',''))"
      ],
      "execution_count": 6,
      "outputs": [
        {
          "output_type": "stream",
          "text": [
            "हिन्दू देवता हनुमान का मंदिर है जो कि महाराष्ट्र के पुणे शहर में स्थित है । यह मंदिर एक पहाड़ी पर स्थित है । यह मंदिर समुद्र तल से लगभग ७०० मीटर की ऊंचाई पर स्थित है । यह मंदिर अपनी भव्यता को\n"
          ],
          "name": "stdout"
        }
      ]
    },
    {
      "cell_type": "code",
      "metadata": {
        "id": "OIyBYGuKgc4b",
        "colab_type": "code",
        "colab": {}
      },
      "source": [
        "print(learn.predict('__Enter Text To Begin With__',n_words=40,temperature = 0.6).replace('▁',''))"
      ],
      "execution_count": 0,
      "outputs": []
    },
    {
      "cell_type": "code",
      "metadata": {
        "id": "yMEKF1g4hN0b",
        "colab_type": "code",
        "colab": {}
      },
      "source": [
        ""
      ],
      "execution_count": 0,
      "outputs": []
    }
  ]
}