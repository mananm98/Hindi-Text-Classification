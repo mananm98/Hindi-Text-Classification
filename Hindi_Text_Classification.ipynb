{
  "nbformat": 4,
  "nbformat_minor": 0,
  "metadata": {
    "colab": {
      "name": "Hindi-Text-Classification.ipynb",
      "provenance": [],
      "collapsed_sections": [
        "bgoK3o32iwKk"
      ],
      "mount_file_id": "1Z29AmIGgH3QIuyYQXdFsKaehxicpikP3",
      "authorship_tag": "ABX9TyNODycQ+D+UL+LW4e/zlSMO",
      "include_colab_link": true
    },
    "kernelspec": {
      "name": "python3",
      "display_name": "Python 3"
    },
    "accelerator": "GPU"
  },
  "cells": [
    {
      "cell_type": "markdown",
      "metadata": {
        "id": "view-in-github",
        "colab_type": "text"
      },
      "source": [
        "<a href=\"https://colab.research.google.com/github/mananm98/Hindi-Text-Classification/blob/master/Hindi_Text_Classification.ipynb\" target=\"_parent\"><img src=\"https://colab.research.google.com/assets/colab-badge.svg\" alt=\"Open In Colab\"/></a>"
      ]
    },
    {
      "cell_type": "markdown",
      "metadata": {
        "id": "diI16kfNDf38",
        "colab_type": "text"
      },
      "source": [
        "# **Hindi Wikipedia Articles Language Model**"
      ]
    },
    {
      "cell_type": "code",
      "metadata": {
        "id": "Xo3wSMlhTU77",
        "colab_type": "code",
        "outputId": "41c32bb8-096a-43fa-c017-c228685be72c",
        "colab": {
          "base_uri": "https://localhost:8080/",
          "height": 34
        }
      },
      "source": [
        "!pip install sentencepiece"
      ],
      "execution_count": 2,
      "outputs": [
        {
          "output_type": "stream",
          "text": [
            "Requirement already satisfied: sentencepiece in /usr/local/lib/python3.6/dist-packages (0.1.91)\n"
          ],
          "name": "stdout"
        }
      ]
    },
    {
      "cell_type": "code",
      "metadata": {
        "id": "FIhgtBWTXlWR",
        "colab_type": "code",
        "colab": {}
      },
      "source": [
        "from fastai.basics import *\n",
        "from fastai.text import *\n",
        "import warnings\n",
        "import sentencepiece\n",
        "warnings.filterwarnings('ignore')\n",
        "from os import path \n",
        "from time import time\n",
        "import pandas as pd\n",
        "import sentencepiece as spm\n",
        "import os\n",
        "import shutil"
      ],
      "execution_count": 0,
      "outputs": []
    },
    {
      "cell_type": "code",
      "metadata": {
        "id": "MaAVqR4CU7Kl",
        "colab_type": "code",
        "outputId": "22818f29-47e2-478a-97c4-d385b4987627",
        "colab": {
          "base_uri": "https://localhost:8080/",
          "height": 34
        }
      },
      "source": [
        "cd /content/drive/My Drive/Hindi"
      ],
      "execution_count": 4,
      "outputs": [
        {
          "output_type": "stream",
          "text": [
            "/content/drive/My Drive/Hindi\n"
          ],
          "name": "stdout"
        }
      ]
    },
    {
      "cell_type": "code",
      "metadata": {
        "id": "QThG7yCRU1hN",
        "colab_type": "code",
        "colab": {}
      },
      "source": [
        "def get_data(dump_url, lang):\n",
        "    ''' 1) Download thw Wikipedia-dump file\n",
        "        2) Unzip it\n",
        "        3) Convert to text using WikiExtractor tool from Github\n",
        "    '''\n",
        "    if path.exists(f\"./{lang}-wiki-data\"):\n",
        "        print(f\"{lang} wiki data already exists not downloading !\")\n",
        "    else:\n",
        "        path_to_store = f\"./{lang}-wiki-data.xml.bz2\"\n",
        "        print('Downloading ....')\n",
        "        download_url(dump_url,path_to_store)\n",
        "        print('unzipping ....')\n",
        "        bunzip(path_to_store)\n",
        "      \n",
        "    if not path.exists('./wikiextractor'): \n",
        "        os.system('git clone https://github.com/attardi/wikiextractor.git')\n",
        "      \n",
        "    print('extracting ....')\n",
        "    os.system('python wikiextractor/WikiExtractor.py --processes 2 --no_templates --min_text_length 200 --filter_disambig_pages --log_file log -b 100G -q '+ f\"./{lang}-wiki-data.xml\" )       "
      ],
      "execution_count": 0,
      "outputs": []
    },
    {
      "cell_type": "code",
      "metadata": {
        "id": "Wl1IJVGqVS6B",
        "colab_type": "code",
        "outputId": "e257e3ad-9388-44c9-c478-32e16471d7ae",
        "colab": {
          "base_uri": "https://localhost:8080/",
          "height": 68
        }
      },
      "source": [
        "url = \"https://dumps.wikimedia.org/hiwiki/20200501/hiwiki-20200501-pages-meta-current.xml.bz2\"\n",
        "language = 'Hindi'\n",
        "\n",
        "get_data(dump_url=url, lang=language)"
      ],
      "execution_count": 0,
      "outputs": [
        {
          "output_type": "stream",
          "text": [
            "Downloading ....\n"
          ],
          "name": "stdout"
        },
        {
          "output_type": "display_data",
          "data": {
            "text/html": [
              ""
            ],
            "text/plain": [
              "<IPython.core.display.HTML object>"
            ]
          },
          "metadata": {
            "tags": []
          }
        },
        {
          "output_type": "stream",
          "text": [
            "unzipping ....\n",
            "extracting ....\n"
          ],
          "name": "stdout"
        }
      ]
    },
    {
      "cell_type": "code",
      "metadata": {
        "id": "3Lbk_N-nccZs",
        "colab_type": "code",
        "colab": {}
      },
      "source": [
        "# Renaming file as Hindi-Text\n",
        "shutil.move('./text/AA/wiki_00' , './Hindi-text')\n",
        "shutil.rmtree('./text')"
      ],
      "execution_count": 0,
      "outputs": []
    },
    {
      "cell_type": "code",
      "metadata": {
        "id": "7qJ6B4gLcjLy",
        "colab_type": "code",
        "outputId": "e9752cc6-c4b9-4b20-c270-aa70591484cd",
        "colab": {
          "base_uri": "https://localhost:8080/",
          "height": 105
        }
      },
      "source": [
        "# sample \n",
        "!head -n4 './Hindi-text'"
      ],
      "execution_count": 0,
      "outputs": [
        {
          "output_type": "stream",
          "text": [
            "<doc id=\"10\" url=\"https://hi.wikipedia.org/wiki?curid=10\" title=\"हम होंगे कामयाब\">\n",
            "हम होंगे कामयाब\n",
            "\n",
            "हम होंगे कामयाब ( का गिरिजा कुमार माथुर द्वारा किया गया हिंदी भावानुवाद) एक प्रतिरोध गीत है। यह गीत बीसवीं सदी में नागरिक अधिकार आंदोलन का प्रधान स्वर बना। इस गीत को आमतौर पर \"I'll Overcome Some Day\" (\"आई विल ओवरकम सम डे\") से काव्यावतरित माना जाता है, जो चार्ल्स अल्बर्ट टिंडले द्वारा गाया गया था और जिसे 1900 में पहली बार प्रकाशित किया गया था।\n"
          ],
          "name": "stdout"
        }
      ]
    },
    {
      "cell_type": "code",
      "metadata": {
        "id": "u19_Qk0zc5Pz",
        "colab_type": "code",
        "outputId": "d814c22f-f36b-4741-ebe3-10713a3a79b5",
        "colab": {
          "base_uri": "https://localhost:8080/",
          "height": 51
        }
      },
      "source": [
        "with open('./Hindi-text','r') as f:\n",
        "    lines = f.readlines()\n",
        "\n",
        "print(len(lines))\n",
        "lines = [line for line in lines if line != '\\n'] # Removing '\\n' from lines    \n",
        "print(len(lines))"
      ],
      "execution_count": 0,
      "outputs": [
        {
          "output_type": "stream",
          "text": [
            "1334446\n",
            "711662\n"
          ],
          "name": "stdout"
        }
      ]
    },
    {
      "cell_type": "code",
      "metadata": {
        "id": "rjJiZH51dKsG",
        "colab_type": "code",
        "outputId": "0a6d855f-b2eb-464d-befe-605028b4a686",
        "colab": {
          "base_uri": "https://localhost:8080/",
          "height": 122
        }
      },
      "source": [
        "lines[:5]"
      ],
      "execution_count": 0,
      "outputs": [
        {
          "output_type": "execute_result",
          "data": {
            "text/plain": [
              "['<doc id=\"10\" url=\"https://hi.wikipedia.org/wiki?curid=10\" title=\"हम होंगे कामयाब\">\\n',\n",
              " 'हम होंगे कामयाब\\n',\n",
              " 'हम होंगे कामयाब ( का गिरिजा कुमार माथुर द्वारा किया गया हिंदी भावानुवाद) एक प्रतिरोध गीत है। यह गीत बीसवीं सदी में नागरिक अधिकार आंदोलन का प्रधान स्वर बना। इस गीत को आमतौर पर \"I\\'ll Overcome Some Day\" (\"आई विल ओवरकम सम डे\") से काव्यावतरित माना जाता है, जो चार्ल्स अल्बर्ट टिंडले द्वारा गाया गया था और जिसे 1900 में पहली बार प्रकाशित किया गया था।\\n',\n",
              " '</doc>\\n',\n",
              " '<doc id=\"14\" url=\"https://hi.wikipedia.org/wiki?curid=14\" title=\"दैनिक पूजा\">\\n']"
            ]
          },
          "metadata": {
            "tags": []
          },
          "execution_count": 36
        }
      ]
    },
    {
      "cell_type": "code",
      "metadata": {
        "id": "ztCvG2utdYUA",
        "colab_type": "code",
        "colab": {}
      },
      "source": [
        "# pattern to find title\n",
        "title_re = re.compile(r'<doc id=\"\\d+\" url=\"https://hi.wikipedia.org/wiki\\?curid=\\d+\" title=\"([^\"]+)\">')"
      ],
      "execution_count": 0,
      "outputs": []
    },
    {
      "cell_type": "code",
      "metadata": {
        "id": "UOD8rVdI7_No",
        "colab_type": "code",
        "colab": {
          "base_uri": "https://localhost:8080/",
          "height": 34
        },
        "outputId": "8ce8eeca-2d2e-4b68-a8ea-dfe2b6879bdd"
      },
      "source": [
        "title_re.findall('<doc id=\"10\" url=\"https://hi.wikipedia.org/wiki?curid=10\" title=\"हम होंगे कामयाब\">\\n')"
      ],
      "execution_count": 4,
      "outputs": [
        {
          "output_type": "execute_result",
          "data": {
            "text/plain": [
              "['हम होंगे कामयाब']"
            ]
          },
          "metadata": {
            "tags": []
          },
          "execution_count": 4
        }
      ]
    },
    {
      "cell_type": "code",
      "metadata": {
        "id": "i_NskGbCdSDU",
        "colab_type": "code",
        "colab": {}
      },
      "source": [
        "for line in lines:\n",
        "    \n",
        "    if line.startswith('<doc id='):\n",
        "        title = title_re.findall(line)[0].replace('/','_')\n",
        "        f = open(f'./wiki-files/{title}.txt',\"a\")\n",
        "        continue\n",
        "       \n",
        "    if line.startswith('</doc>'):\n",
        "        f.close()\n",
        "        continue\n",
        "       \n",
        "    if line == title+'\\n' :\n",
        "        continue\n",
        "        \n",
        "    f.write(line)\n",
        "    "
      ],
      "execution_count": 0,
      "outputs": []
    },
    {
      "cell_type": "code",
      "metadata": {
        "id": "HGxrAhCHgkoH",
        "colab_type": "code",
        "colab": {}
      },
      "source": [
        "# Replacing 'whitespaces' and ',' in file-names with '_' as sentencepiece.trainer cannot read files with 'whitespaces' and ','\n",
        "file_list = os.listdir('./wiki-files')\n",
        "path = '/content/drive/My Drive/Hindi/wiki-files'\n",
        "for fname in file_list:\n",
        "    os.rename(os.path.join(path, fname) , os.path.join(path, fname.replace(' ','_').replace(',','_')))\n",
        "    "
      ],
      "execution_count": 0,
      "outputs": []
    },
    {
      "cell_type": "code",
      "metadata": {
        "id": "lOth3UKbra0i",
        "colab_type": "code",
        "outputId": "31a2d814-0e4a-4456-8f2e-d5ada1750396",
        "colab": {
          "base_uri": "https://localhost:8080/",
          "height": 136
        }
      },
      "source": [
        "file_list = os.listdir('./wiki-files')\n",
        "print(\"No. of files ---> \", len(file_list),'\\n\\n')\n",
        "\n",
        "# file_list : list of all file paths in wiki-files, it would be given to sentencepiece.trainer for training\n",
        "path = './wiki-files/'\n",
        "file_list = [path + fname for fname in file_list]\n",
        "print(file_list[:3],'\\n\\n')\n",
        "\n",
        "file_list = ','.join(file_list)\n",
        "print(file_list[:80])"
      ],
      "execution_count": 17,
      "outputs": [
        {
          "output_type": "stream",
          "text": [
            "No. of files --->  71989 \n",
            "\n",
            "\n",
            "['./wiki-files/विजयवाड़ा_जंक्शन_रेलवे_स्टेशन.txt', './wiki-files/सद्धर्म_प्रचारक.txt', './wiki-files/गीता_रामजी.txt'] \n",
            "\n",
            "\n",
            "./wiki-files/विजयवाड़ा_जंक्शन_रेलवे_स्टेशन.txt,./wiki-files/सद्धर्म_प्रचारक.txt,\n"
          ],
          "name": "stdout"
        }
      ]
    },
    {
      "cell_type": "code",
      "metadata": {
        "id": "m-tv1T7SJtKA",
        "colab_type": "code",
        "colab": {}
      },
      "source": [
        "model_name = 'spm'\n",
        "vocab_size = 30000\n",
        "spm.SentencePieceTrainer.train(f'--input={file_list} --vocab_size={vocab_size} --model_prefix={model_name}')"
      ],
      "execution_count": 0,
      "outputs": []
    },
    {
      "cell_type": "markdown",
      "metadata": {
        "id": "9Lan1ij52eK0",
        "colab_type": "text"
      },
      "source": [
        "### **Creating Hindi Wikipedia-Articles Databunch object**\n",
        "- This databunch object will be given to the language model learner\n",
        "- The databunch object, is used to represent a dataset \n",
        "- It is used inside fastai's Learner to train a model"
      ]
    },
    {
      "cell_type": "code",
      "metadata": {
        "id": "qiMeFiILmVBq",
        "colab_type": "code",
        "outputId": "c92a3342-d64b-410b-c7ec-7bc2cfb0fe39",
        "colab": {
          "base_uri": "https://localhost:8080/",
          "height": 34
        }
      },
      "source": [
        "bs = 128 # batch size\n",
        "start = time()\n",
        "data = (TextList.from_folder('./wiki-files',processor = [OpenFileProcessor(),SPProcessor( sp_model = './spm.model', sp_vocab = './spm.vocab')])\n",
        "        .split_by_rand_pct(0.1,seed = 42)\n",
        "        .label_for_lm()\n",
        "        .databunch(bs = bs, num_workers = 1))\n",
        "\n",
        "end = time()\n",
        "print( \"time Taken \", start - end)"
      ],
      "execution_count": 0,
      "outputs": [
        {
          "output_type": "display_data",
          "data": {
            "text/html": [
              ""
            ],
            "text/plain": [
              "<IPython.core.display.HTML object>"
            ]
          },
          "metadata": {
            "tags": []
          }
        },
        {
          "output_type": "display_data",
          "data": {
            "text/html": [
              ""
            ],
            "text/plain": [
              "<IPython.core.display.HTML object>"
            ]
          },
          "metadata": {
            "tags": []
          }
        },
        {
          "output_type": "stream",
          "text": [
            "time Taken  -500.40979528427124\n"
          ],
          "name": "stdout"
        }
      ]
    },
    {
      "cell_type": "code",
      "metadata": {
        "id": "uFVIc8uXRaeO",
        "colab_type": "code",
        "outputId": "d1ffc0d7-ed61-4b24-bdb1-3436d12112f3",
        "colab": {
          "base_uri": "https://localhost:8080/",
          "height": 34
        }
      },
      "source": [
        "data.save('./Hindi_databunch')\n",
        "len(data.vocab.itos),len(data.train_ds)"
      ],
      "execution_count": 0,
      "outputs": [
        {
          "output_type": "execute_result",
          "data": {
            "text/plain": [
              "(30000, 64787)"
            ]
          },
          "metadata": {
            "tags": []
          },
          "execution_count": 9
        }
      ]
    },
    {
      "cell_type": "code",
      "metadata": {
        "id": "cQlA16NeclYa",
        "colab_type": "code",
        "colab": {}
      },
      "source": [
        "bs = 128     # batch size\n",
        "data = load_data(path = './',file = 'Hindi_databunch' , bs = bs)"
      ],
      "execution_count": 0,
      "outputs": []
    },
    {
      "cell_type": "code",
      "metadata": {
        "id": "JcAHYrKfF8HJ",
        "colab_type": "code",
        "outputId": "b18df8a0-acaf-4702-8a17-efb5ea2700e9",
        "colab": {
          "base_uri": "https://localhost:8080/",
          "height": 272
        }
      },
      "source": [
        "data.vocab.itos[5:20]"
      ],
      "execution_count": 0,
      "outputs": [
        {
          "output_type": "execute_result",
          "data": {
            "text/plain": [
              "['▁में',\n",
              " ',',\n",
              " '▁है',\n",
              " '▁की',\n",
              " '▁और',\n",
              " '▁से',\n",
              " '▁का',\n",
              " '▁को',\n",
              " '▁हैं',\n",
              " '▁एक',\n",
              " '▁',\n",
              " '▁पर',\n",
              " '▁(',\n",
              " '-',\n",
              " ')']"
            ]
          },
          "metadata": {
            "tags": []
          },
          "execution_count": 6
        }
      ]
    },
    {
      "cell_type": "code",
      "metadata": {
        "id": "ZUC9y9qXcya1",
        "colab_type": "code",
        "colab": {}
      },
      "source": [
        "# Creating Language model Learner\n",
        "learn = language_model_learner(data, AWD_LSTM, drop_mult = 0.5, pretrained = False)"
      ],
      "execution_count": 0,
      "outputs": []
    },
    {
      "cell_type": "code",
      "metadata": {
        "id": "tLbjkox0xNB4",
        "colab_type": "code",
        "outputId": "d822053a-7f67-40ce-d59c-5f3b6b7cb0f5",
        "colab": {
          "base_uri": "https://localhost:8080/",
          "height": 374
        }
      },
      "source": [
        "# Finding a suitable learning rate \n",
        "learn.lr_find()\n",
        "learn.recorder.plot()"
      ],
      "execution_count": 0,
      "outputs": [
        {
          "output_type": "display_data",
          "data": {
            "text/html": [
              "\n",
              "    <div>\n",
              "        <style>\n",
              "            /* Turns off some styling */\n",
              "            progress {\n",
              "                /* gets rid of default border in Firefox and Opera. */\n",
              "                border: none;\n",
              "                /* Needs to be in here for Safari polyfill so background images work as expected. */\n",
              "                background-size: auto;\n",
              "            }\n",
              "            .progress-bar-interrupted, .progress-bar-interrupted::-webkit-progress-bar {\n",
              "                background: #F44336;\n",
              "            }\n",
              "        </style>\n",
              "      <progress value='0' class='' max='1' style='width:300px; height:20px; vertical-align: middle;'></progress>\n",
              "      0.00% [0/1 00:00<00:00]\n",
              "    </div>\n",
              "    \n",
              "<table border=\"1\" class=\"dataframe\">\n",
              "  <thead>\n",
              "    <tr style=\"text-align: left;\">\n",
              "      <th>epoch</th>\n",
              "      <th>train_loss</th>\n",
              "      <th>valid_loss</th>\n",
              "      <th>accuracy</th>\n",
              "      <th>time</th>\n",
              "    </tr>\n",
              "  </thead>\n",
              "  <tbody>\n",
              "  </tbody>\n",
              "</table><p>\n",
              "\n",
              "    <div>\n",
              "        <style>\n",
              "            /* Turns off some styling */\n",
              "            progress {\n",
              "                /* gets rid of default border in Firefox and Opera. */\n",
              "                border: none;\n",
              "                /* Needs to be in here for Safari polyfill so background images work as expected. */\n",
              "                background-size: auto;\n",
              "            }\n",
              "            .progress-bar-interrupted, .progress-bar-interrupted::-webkit-progress-bar {\n",
              "                background: #F44336;\n",
              "            }\n",
              "        </style>\n",
              "      <progress value='95' class='' max='3892' style='width:300px; height:20px; vertical-align: middle;'></progress>\n",
              "      2.44% [95/3892 00:29<19:25 31.2228]\n",
              "    </div>\n",
              "    "
            ],
            "text/plain": [
              "<IPython.core.display.HTML object>"
            ]
          },
          "metadata": {
            "tags": []
          }
        },
        {
          "output_type": "stream",
          "text": [
            "LR Finder is complete, type {learner_name}.recorder.plot() to see the graph.\n"
          ],
          "name": "stdout"
        },
        {
          "output_type": "display_data",
          "data": {
            "image/png": "[encoded data removed]",
            "text/plain": [
              "<Figure size 432x288 with 1 Axes>"
            ]
          },
          "metadata": {
            "tags": [],
            "needs_background": "light"
          }
        }
      ]
    },
    {
      "cell_type": "code",
      "metadata": {
        "id": "xK6AP0wyZV1g",
        "colab_type": "code",
        "colab": {}
      },
      "source": [
        "# Learning rate\n",
        "lr = 1e-3\n",
        "lr *= bs/48"
      ],
      "execution_count": 0,
      "outputs": []
    },
    {
      "cell_type": "code",
      "metadata": {
        "id": "ugJI4OG-e0tR",
        "colab_type": "code",
        "outputId": "9022dcb2-fd87-4982-f14e-dac0224b4097",
        "colab": {
          "base_uri": "https://localhost:8080/",
          "height": 647
        }
      },
      "source": [
        "# Training language model on Hindi Wikipedia Articles Dataset for 10 epochs, using fit_one_cycle policy\n",
        "learn.unfreeze()\n",
        "path = '/content/drive/My Drive/Hindi/models/'\n",
        "for i in range(10):\n",
        "  learn.fit_one_cycle(1, lr, moms = (0.8,0.7))\n",
        "  learn.to_fp32().save(path+f'model_{i+1}', with_opt = False)\n"
      ],
      "execution_count": 0,
      "outputs": [
        {
          "output_type": "display_data",
          "data": {
            "text/html": [
              "<table border=\"1\" class=\"dataframe\">\n",
              "  <thead>\n",
              "    <tr style=\"text-align: left;\">\n",
              "      <th>epoch</th>\n",
              "      <th>train_loss</th>\n",
              "      <th>valid_loss</th>\n",
              "      <th>accuracy</th>\n",
              "      <th>time</th>\n",
              "    </tr>\n",
              "  </thead>\n",
              "  <tbody>\n",
              "    <tr>\n",
              "      <td>0</td>\n",
              "      <td>4.598891</td>\n",
              "      <td>4.537275</td>\n",
              "      <td>0.276804</td>\n",
              "      <td>20:22</td>\n",
              "    </tr>\n",
              "  </tbody>\n",
              "</table>"
            ],
            "text/plain": [
              "<IPython.core.display.HTML object>"
            ]
          },
          "metadata": {
            "tags": []
          }
        },
        {
          "output_type": "display_data",
          "data": {
            "text/html": [
              "<table border=\"1\" class=\"dataframe\">\n",
              "  <thead>\n",
              "    <tr style=\"text-align: left;\">\n",
              "      <th>epoch</th>\n",
              "      <th>train_loss</th>\n",
              "      <th>valid_loss</th>\n",
              "      <th>accuracy</th>\n",
              "      <th>time</th>\n",
              "    </tr>\n",
              "  </thead>\n",
              "  <tbody>\n",
              "    <tr>\n",
              "      <td>0</td>\n",
              "      <td>4.413353</td>\n",
              "      <td>4.325689</td>\n",
              "      <td>0.292641</td>\n",
              "      <td>20:18</td>\n",
              "    </tr>\n",
              "  </tbody>\n",
              "</table>"
            ],
            "text/plain": [
              "<IPython.core.display.HTML object>"
            ]
          },
          "metadata": {
            "tags": []
          }
        },
        {
          "output_type": "display_data",
          "data": {
            "text/html": [
              "<table border=\"1\" class=\"dataframe\">\n",
              "  <thead>\n",
              "    <tr style=\"text-align: left;\">\n",
              "      <th>epoch</th>\n",
              "      <th>train_loss</th>\n",
              "      <th>valid_loss</th>\n",
              "      <th>accuracy</th>\n",
              "      <th>time</th>\n",
              "    </tr>\n",
              "  </thead>\n",
              "  <tbody>\n",
              "    <tr>\n",
              "      <td>0</td>\n",
              "      <td>4.294977</td>\n",
              "      <td>4.225444</td>\n",
              "      <td>0.301208</td>\n",
              "      <td>20:15</td>\n",
              "    </tr>\n",
              "  </tbody>\n",
              "</table>"
            ],
            "text/plain": [
              "<IPython.core.display.HTML object>"
            ]
          },
          "metadata": {
            "tags": []
          }
        },
        {
          "output_type": "display_data",
          "data": {
            "text/html": [
              "<table border=\"1\" class=\"dataframe\">\n",
              "  <thead>\n",
              "    <tr style=\"text-align: left;\">\n",
              "      <th>epoch</th>\n",
              "      <th>train_loss</th>\n",
              "      <th>valid_loss</th>\n",
              "      <th>accuracy</th>\n",
              "      <th>time</th>\n",
              "    </tr>\n",
              "  </thead>\n",
              "  <tbody>\n",
              "    <tr>\n",
              "      <td>0</td>\n",
              "      <td>4.244415</td>\n",
              "      <td>4.164065</td>\n",
              "      <td>0.307011</td>\n",
              "      <td>20:19</td>\n",
              "    </tr>\n",
              "  </tbody>\n",
              "</table>"
            ],
            "text/plain": [
              "<IPython.core.display.HTML object>"
            ]
          },
          "metadata": {
            "tags": []
          }
        },
        {
          "output_type": "display_data",
          "data": {
            "text/html": [
              "<table border=\"1\" class=\"dataframe\">\n",
              "  <thead>\n",
              "    <tr style=\"text-align: left;\">\n",
              "      <th>epoch</th>\n",
              "      <th>train_loss</th>\n",
              "      <th>valid_loss</th>\n",
              "      <th>accuracy</th>\n",
              "      <th>time</th>\n",
              "    </tr>\n",
              "  </thead>\n",
              "  <tbody>\n",
              "    <tr>\n",
              "      <td>0</td>\n",
              "      <td>4.169816</td>\n",
              "      <td>4.122560</td>\n",
              "      <td>0.310859</td>\n",
              "      <td>20:18</td>\n",
              "    </tr>\n",
              "  </tbody>\n",
              "</table>"
            ],
            "text/plain": [
              "<IPython.core.display.HTML object>"
            ]
          },
          "metadata": {
            "tags": []
          }
        },
        {
          "output_type": "display_data",
          "data": {
            "text/html": [
              "<table border=\"1\" class=\"dataframe\">\n",
              "  <thead>\n",
              "    <tr style=\"text-align: left;\">\n",
              "      <th>epoch</th>\n",
              "      <th>train_loss</th>\n",
              "      <th>valid_loss</th>\n",
              "      <th>accuracy</th>\n",
              "      <th>time</th>\n",
              "    </tr>\n",
              "  </thead>\n",
              "  <tbody>\n",
              "    <tr>\n",
              "      <td>0</td>\n",
              "      <td>4.103697</td>\n",
              "      <td>4.091389</td>\n",
              "      <td>0.313952</td>\n",
              "      <td>20:17</td>\n",
              "    </tr>\n",
              "  </tbody>\n",
              "</table>"
            ],
            "text/plain": [
              "<IPython.core.display.HTML object>"
            ]
          },
          "metadata": {
            "tags": []
          }
        },
        {
          "output_type": "display_data",
          "data": {
            "text/html": [
              "<table border=\"1\" class=\"dataframe\">\n",
              "  <thead>\n",
              "    <tr style=\"text-align: left;\">\n",
              "      <th>epoch</th>\n",
              "      <th>train_loss</th>\n",
              "      <th>valid_loss</th>\n",
              "      <th>accuracy</th>\n",
              "      <th>time</th>\n",
              "    </tr>\n",
              "  </thead>\n",
              "  <tbody>\n",
              "    <tr>\n",
              "      <td>0</td>\n",
              "      <td>4.057064</td>\n",
              "      <td>4.067785</td>\n",
              "      <td>0.316389</td>\n",
              "      <td>20:18</td>\n",
              "    </tr>\n",
              "  </tbody>\n",
              "</table>"
            ],
            "text/plain": [
              "<IPython.core.display.HTML object>"
            ]
          },
          "metadata": {
            "tags": []
          }
        },
        {
          "output_type": "display_data",
          "data": {
            "text/html": [
              "<table border=\"1\" class=\"dataframe\">\n",
              "  <thead>\n",
              "    <tr style=\"text-align: left;\">\n",
              "      <th>epoch</th>\n",
              "      <th>train_loss</th>\n",
              "      <th>valid_loss</th>\n",
              "      <th>accuracy</th>\n",
              "      <th>time</th>\n",
              "    </tr>\n",
              "  </thead>\n",
              "  <tbody>\n",
              "    <tr>\n",
              "      <td>0</td>\n",
              "      <td>4.048289</td>\n",
              "      <td>4.048549</td>\n",
              "      <td>0.318343</td>\n",
              "      <td>20:19</td>\n",
              "    </tr>\n",
              "  </tbody>\n",
              "</table>"
            ],
            "text/plain": [
              "<IPython.core.display.HTML object>"
            ]
          },
          "metadata": {
            "tags": []
          }
        },
        {
          "output_type": "display_data",
          "data": {
            "text/html": [
              "<table border=\"1\" class=\"dataframe\">\n",
              "  <thead>\n",
              "    <tr style=\"text-align: left;\">\n",
              "      <th>epoch</th>\n",
              "      <th>train_loss</th>\n",
              "      <th>valid_loss</th>\n",
              "      <th>accuracy</th>\n",
              "      <th>time</th>\n",
              "    </tr>\n",
              "  </thead>\n",
              "  <tbody>\n",
              "    <tr>\n",
              "      <td>0</td>\n",
              "      <td>4.009545</td>\n",
              "      <td>4.034369</td>\n",
              "      <td>0.319879</td>\n",
              "      <td>20:17</td>\n",
              "    </tr>\n",
              "  </tbody>\n",
              "</table>"
            ],
            "text/plain": [
              "<IPython.core.display.HTML object>"
            ]
          },
          "metadata": {
            "tags": []
          }
        },
        {
          "output_type": "display_data",
          "data": {
            "text/html": [
              "<table border=\"1\" class=\"dataframe\">\n",
              "  <thead>\n",
              "    <tr style=\"text-align: left;\">\n",
              "      <th>epoch</th>\n",
              "      <th>train_loss</th>\n",
              "      <th>valid_loss</th>\n",
              "      <th>accuracy</th>\n",
              "      <th>time</th>\n",
              "    </tr>\n",
              "  </thead>\n",
              "  <tbody>\n",
              "    <tr>\n",
              "      <td>0</td>\n",
              "      <td>4.025363</td>\n",
              "      <td>4.022080</td>\n",
              "      <td>0.321042</td>\n",
              "      <td>20:16</td>\n",
              "    </tr>\n",
              "  </tbody>\n",
              "</table>"
            ],
            "text/plain": [
              "<IPython.core.display.HTML object>"
            ]
          },
          "metadata": {
            "tags": []
          }
        }
      ]
    },
    {
      "cell_type": "code",
      "metadata": {
        "id": "BVv9glL8SZsa",
        "colab_type": "code",
        "colab": {}
      },
      "source": [
        "learn = learn.load('/content/drive/My Drive/Hindi/models/model_10')"
      ],
      "execution_count": 0,
      "outputs": []
    },
    {
      "cell_type": "code",
      "metadata": {
        "id": "CDbK0taLhb_W",
        "colab_type": "code",
        "colab": {}
      },
      "source": [
        "learn.data.vocab.save('/content/drive/My Drive/Hindi/models/model_10_vocab.pkl')"
      ],
      "execution_count": 0,
      "outputs": []
    },
    {
      "cell_type": "code",
      "metadata": {
        "id": "vxO-sT9yXV-6",
        "colab_type": "code",
        "colab": {}
      },
      "source": [
        "lm_fns = ['model_10','model_10_vocab']"
      ],
      "execution_count": 0,
      "outputs": []
    },
    {
      "cell_type": "markdown",
      "metadata": {
        "id": "ZHfuTxyOoSKh",
        "colab_type": "text"
      },
      "source": [
        "### **Predictions**"
      ]
    },
    {
      "cell_type": "code",
      "metadata": {
        "id": "MuGUEyz1MnL2",
        "colab_type": "code",
        "outputId": "156e0424-dd09-47b3-9def-4e391274b1aa",
        "colab": {
          "base_uri": "https://localhost:8080/",
          "height": 34
        }
      },
      "source": [
        "# Language model predictions\n",
        "learn.predict('हिन्दू देवता हनुमान',n_words=15).replace('▁','')"
      ],
      "execution_count": 0,
      "outputs": [
        {
          "output_type": "execute_result",
          "data": {
            "text/plain": [
              "'हिन्दू देवता हनुमान का जन्म हुआ था , भगवान विष्णु ने विश्व मूर्ति बनाकर अपने पूर्वजों की रक्षा'"
            ]
          },
          "metadata": {
            "tags": []
          },
          "execution_count": 28
        }
      ]
    },
    {
      "cell_type": "code",
      "metadata": {
        "id": "kyXaJtplkcOP",
        "colab_type": "code",
        "outputId": "2a1b034a-ef00-47a9-ffb4-ce96b2922a95",
        "colab": {
          "base_uri": "https://localhost:8080/",
          "height": 34
        }
      },
      "source": [
        "learn.predict('क्या कर रहे हो',n_words=15).replace('▁','')"
      ],
      "execution_count": 0,
      "outputs": [
        {
          "output_type": "execute_result",
          "data": {
            "text/plain": [
              "'क्या कर रहे हो भारत सरकार द्वारा प्रकाशित 2007 की एक फ़िल्म है । इस फ़िल्म के बैनर तले'"
            ]
          },
          "metadata": {
            "tags": []
          },
          "execution_count": 31
        }
      ]
    },
    {
      "cell_type": "code",
      "metadata": {
        "id": "HoX0uRqck0k6",
        "colab_type": "code",
        "outputId": "d04bfa38-3fe1-4774-ec19-a65cb9c2cf1f",
        "colab": {
          "base_uri": "https://localhost:8080/",
          "height": 34
        }
      },
      "source": [
        "learn.predict('होली',n_words=15).replace('▁','')"
      ],
      "execution_count": 0,
      "outputs": [
        {
          "output_type": "execute_result",
          "data": {
            "text/plain": [
              "'होली के उत्सव सैर गाह निर्धारक रहस्य पर आधारित मुख्य त्यौहार है । यह मिठाई भारतीय'"
            ]
          },
          "metadata": {
            "tags": []
          },
          "execution_count": 36
        }
      ]
    },
    {
      "cell_type": "markdown",
      "metadata": {
        "id": "bgoK3o32iwKk",
        "colab_type": "text"
      },
      "source": [
        "# **Hindi Movie Reviews Language Model**\n"
      ]
    },
    {
      "cell_type": "markdown",
      "metadata": {
        "id": "GOvYZ592DMRh",
        "colab_type": "text"
      },
      "source": [
        "### **Creating 'Hindi movie reviews' databunch object for training language model**"
      ]
    },
    {
      "cell_type": "code",
      "metadata": {
        "id": "PIc0JmovmmbG",
        "colab_type": "code",
        "outputId": "ffb7cef3-8104-48f0-d63b-e33e86112c56",
        "colab": {
          "base_uri": "https://localhost:8080/",
          "height": 221
        }
      },
      "source": [
        "# Merging Training and validation sets for training a Language Model on Hindi Movie Reviews\n",
        "train_df = pd.read_csv('/content/drive/My Drive/Hindi/hindi-movie-reviews-dataset/train.csv')\n",
        "val_df = pd.read_csv('/content/drive/My Drive/Hindi/hindi-movie-reviews-dataset/valid.csv')\n",
        "df = pd.concat([train_df,val_df],sort = False)\n",
        "print(\"Total No. of reviews ---> \", len(df))\n",
        "df.head()"
      ],
      "execution_count": 0,
      "outputs": [
        {
          "output_type": "stream",
          "text": [
            "Total No. of reviews --->  898\n"
          ],
          "name": "stdout"
        },
        {
          "output_type": "execute_result",
          "data": {
            "text/html": [
              "<div>\n",
              "<style scoped>\n",
              "    .dataframe tbody tr th:only-of-type {\n",
              "        vertical-align: middle;\n",
              "    }\n",
              "\n",
              "    .dataframe tbody tr th {\n",
              "        vertical-align: top;\n",
              "    }\n",
              "\n",
              "    .dataframe thead th {\n",
              "        text-align: right;\n",
              "    }\n",
              "</style>\n",
              "<table border=\"1\" class=\"dataframe\">\n",
              "  <thead>\n",
              "    <tr style=\"text-align: right;\">\n",
              "      <th></th>\n",
              "      <th>text</th>\n",
              "      <th>experience</th>\n",
              "    </tr>\n",
              "  </thead>\n",
              "  <tbody>\n",
              "    <tr>\n",
              "      <th>0</th>\n",
              "      <td>चंद्रमोहन शर्मा को-प्रड्यूसर और लीड ऐक्टर अक्ष...</td>\n",
              "      <td>2</td>\n",
              "    </tr>\n",
              "    <tr>\n",
              "      <th>1</th>\n",
              "      <td>अगर आप इस फिल्म को देखने जा रहे हैं तो सबसे पह...</td>\n",
              "      <td>0</td>\n",
              "    </tr>\n",
              "    <tr>\n",
              "      <th>2</th>\n",
              "      <td>बॉलीवुड वाले चोरी-छिपे हॉलीवुड फिल्मों से कहान...</td>\n",
              "      <td>2</td>\n",
              "    </tr>\n",
              "    <tr>\n",
              "      <th>3</th>\n",
              "      <td>बैनर :\\nसंजय दत्त प्रोडक्शन्स प्रा.लि., रुपाली...</td>\n",
              "      <td>0</td>\n",
              "    </tr>\n",
              "    <tr>\n",
              "      <th>4</th>\n",
              "      <td>1959 में घटित चर्चित नानावटी कांड में एक क्राइ...</td>\n",
              "      <td>1</td>\n",
              "    </tr>\n",
              "  </tbody>\n",
              "</table>\n",
              "</div>"
            ],
            "text/plain": [
              "                                                text  experience\n",
              "0  चंद्रमोहन शर्मा को-प्रड्यूसर और लीड ऐक्टर अक्ष...           2\n",
              "1  अगर आप इस फिल्म को देखने जा रहे हैं तो सबसे पह...           0\n",
              "2  बॉलीवुड वाले चोरी-छिपे हॉलीवुड फिल्मों से कहान...           2\n",
              "3  बैनर :\\nसंजय दत्त प्रोडक्शन्स प्रा.लि., रुपाली...           0\n",
              "4  1959 में घटित चर्चित नानावटी कांड में एक क्राइ...           1"
            ]
          },
          "metadata": {
            "tags": []
          },
          "execution_count": 42
        }
      ]
    },
    {
      "cell_type": "code",
      "metadata": {
        "id": "FisBsww7n6kC",
        "colab_type": "code",
        "outputId": "22fe647c-8d76-495d-9186-16b2e09672a2",
        "colab": {
          "base_uri": "https://localhost:8080/",
          "height": 17
        }
      },
      "source": [
        "bs = 128    # batch size\n",
        "path = './' # Path where you want to save the model\n",
        "data_lm = (TextList.from_df(df, path, cols='text')\n",
        "    .split_by_rand_pct(0.1, seed=42)\n",
        "    .label_for_lm()           \n",
        "    .databunch(bs=bs, num_workers=1))\n",
        "\n",
        "# Saving Databunch object\n",
        "data_lm.save('./Hindi-movie-data-lm')"
      ],
      "execution_count": 0,
      "outputs": [
        {
          "output_type": "display_data",
          "data": {
            "text/html": [
              ""
            ],
            "text/plain": [
              "<IPython.core.display.HTML object>"
            ]
          },
          "metadata": {
            "tags": []
          }
        },
        {
          "output_type": "display_data",
          "data": {
            "text/html": [
              ""
            ],
            "text/plain": [
              "<IPython.core.display.HTML object>"
            ]
          },
          "metadata": {
            "tags": []
          }
        }
      ]
    },
    {
      "cell_type": "code",
      "metadata": {
        "id": "CzDkwL8_h9_v",
        "colab_type": "code",
        "colab": {}
      },
      "source": [
        "data_lm = load_data(path = '/content/drive/My Drive/Hindi/' , file = 'Hindi-movie-data-lm' , bs = bs)"
      ],
      "execution_count": 0,
      "outputs": []
    },
    {
      "cell_type": "code",
      "metadata": {
        "id": "sOwTilpHiaCl",
        "colab_type": "code",
        "colab": {}
      },
      "source": [
        "# Creating Language Model Learner with pretrained weights and vocab of language model trained on Hindi-Wikipedia-Articles \n",
        "learn_lm = language_model_learner(data_lm, AWD_LSTM, pretrained_fnames=lm_fns, drop_mult = 0.1)"
      ],
      "execution_count": 0,
      "outputs": []
    },
    {
      "cell_type": "code",
      "metadata": {
        "id": "z0bRrFysiq5C",
        "colab_type": "code",
        "outputId": "bd7f24d5-daff-4c4a-bd0c-3a7f8cba3473",
        "colab": {
          "base_uri": "https://localhost:8080/",
          "height": 405
        }
      },
      "source": [
        "# Finding the best learning rate\n",
        "learn_lm.lr_find()\n",
        "learn_lm.recorder.plot()"
      ],
      "execution_count": 0,
      "outputs": [
        {
          "output_type": "display_data",
          "data": {
            "text/html": [
              "\n",
              "    <div>\n",
              "        <style>\n",
              "            /* Turns off some styling */\n",
              "            progress {\n",
              "                /* gets rid of default border in Firefox and Opera. */\n",
              "                border: none;\n",
              "                /* Needs to be in here for Safari polyfill so background images work as expected. */\n",
              "                background-size: auto;\n",
              "            }\n",
              "            .progress-bar-interrupted, .progress-bar-interrupted::-webkit-progress-bar {\n",
              "                background: #F44336;\n",
              "            }\n",
              "        </style>\n",
              "      <progress value='1' class='' max='2' style='width:300px; height:20px; vertical-align: middle;'></progress>\n",
              "      50.00% [1/2 00:12<00:12]\n",
              "    </div>\n",
              "    \n",
              "<table border=\"1\" class=\"dataframe\">\n",
              "  <thead>\n",
              "    <tr style=\"text-align: left;\">\n",
              "      <th>epoch</th>\n",
              "      <th>train_loss</th>\n",
              "      <th>valid_loss</th>\n",
              "      <th>accuracy</th>\n",
              "      <th>time</th>\n",
              "    </tr>\n",
              "  </thead>\n",
              "  <tbody>\n",
              "    <tr>\n",
              "      <td>0</td>\n",
              "      <td>7.405442</td>\n",
              "      <td>#na#</td>\n",
              "      <td>00:12</td>\n",
              "    </tr>\n",
              "  </tbody>\n",
              "</table><p>\n",
              "\n",
              "    <div>\n",
              "        <style>\n",
              "            /* Turns off some styling */\n",
              "            progress {\n",
              "                /* gets rid of default border in Firefox and Opera. */\n",
              "                border: none;\n",
              "                /* Needs to be in here for Safari polyfill so background images work as expected. */\n",
              "                background-size: auto;\n",
              "            }\n",
              "            .progress-bar-interrupted, .progress-bar-interrupted::-webkit-progress-bar {\n",
              "                background: #F44336;\n",
              "            }\n",
              "        </style>\n",
              "      <progress value='28' class='' max='71' style='width:300px; height:20px; vertical-align: middle;'></progress>\n",
              "      39.44% [28/71 00:04<00:07 10.1743]\n",
              "    </div>\n",
              "    "
            ],
            "text/plain": [
              "<IPython.core.display.HTML object>"
            ]
          },
          "metadata": {
            "tags": []
          }
        },
        {
          "output_type": "stream",
          "text": [
            "LR Finder is complete, type {learner_name}.recorder.plot() to see the graph.\n"
          ],
          "name": "stdout"
        },
        {
          "output_type": "display_data",
          "data": {
            "image/png": "[encoded data removed]",
            "text/plain": [
              "<Figure size 432x288 with 1 Axes>"
            ]
          },
          "metadata": {
            "tags": [],
            "needs_background": "light"
          }
        }
      ]
    },
    {
      "cell_type": "code",
      "metadata": {
        "id": "UiaUsu9Dl6ha",
        "colab_type": "code",
        "outputId": "e0e40051-35a7-4cc3-98cb-8b89f0511d50",
        "colab": {
          "base_uri": "https://localhost:8080/",
          "height": 111
        }
      },
      "source": [
        "# Training only last layer of language model\n",
        "lr = 1e-2\n",
        "lr *= bs/48\n",
        "learn_lm.fit_one_cycle(2, lr, moms=(0.8,0.7))"
      ],
      "execution_count": 0,
      "outputs": [
        {
          "output_type": "display_data",
          "data": {
            "text/html": [
              "<table border=\"1\" class=\"dataframe\">\n",
              "  <thead>\n",
              "    <tr style=\"text-align: left;\">\n",
              "      <th>epoch</th>\n",
              "      <th>train_loss</th>\n",
              "      <th>valid_loss</th>\n",
              "      <th>accuracy</th>\n",
              "      <th>time</th>\n",
              "    </tr>\n",
              "  </thead>\n",
              "  <tbody>\n",
              "    <tr>\n",
              "      <td>0</td>\n",
              "      <td>4.992048</td>\n",
              "      <td>4.085779</td>\n",
              "      <td>0.306557</td>\n",
              "      <td>00:12</td>\n",
              "    </tr>\n",
              "    <tr>\n",
              "      <td>1</td>\n",
              "      <td>3.975446</td>\n",
              "      <td>3.858138</td>\n",
              "      <td>0.328850</td>\n",
              "      <td>00:12</td>\n",
              "    </tr>\n",
              "  </tbody>\n",
              "</table>"
            ],
            "text/plain": [
              "<IPython.core.display.HTML object>"
            ]
          },
          "metadata": {
            "tags": []
          }
        }
      ]
    },
    {
      "cell_type": "code",
      "metadata": {
        "id": "i_oxMF9tmxyb",
        "colab_type": "code",
        "outputId": "5f814bbf-265a-41e9-cc49-a7a759aa3ef4",
        "colab": {
          "base_uri": "https://localhost:8080/",
          "height": 297
        }
      },
      "source": [
        "# Training all the layers\n",
        "learn_lm.unfreeze()\n",
        "learn_lm.fit_one_cycle(8, lr, moms=(0.8,0.7))"
      ],
      "execution_count": 0,
      "outputs": [
        {
          "output_type": "display_data",
          "data": {
            "text/html": [
              "<table border=\"1\" class=\"dataframe\">\n",
              "  <thead>\n",
              "    <tr style=\"text-align: left;\">\n",
              "      <th>epoch</th>\n",
              "      <th>train_loss</th>\n",
              "      <th>valid_loss</th>\n",
              "      <th>accuracy</th>\n",
              "      <th>time</th>\n",
              "    </tr>\n",
              "  </thead>\n",
              "  <tbody>\n",
              "    <tr>\n",
              "      <td>0</td>\n",
              "      <td>3.429050</td>\n",
              "      <td>3.771845</td>\n",
              "      <td>0.338407</td>\n",
              "      <td>00:16</td>\n",
              "    </tr>\n",
              "    <tr>\n",
              "      <td>1</td>\n",
              "      <td>3.487094</td>\n",
              "      <td>3.887578</td>\n",
              "      <td>0.329102</td>\n",
              "      <td>00:16</td>\n",
              "    </tr>\n",
              "    <tr>\n",
              "      <td>2</td>\n",
              "      <td>3.480506</td>\n",
              "      <td>3.856337</td>\n",
              "      <td>0.331320</td>\n",
              "      <td>00:16</td>\n",
              "    </tr>\n",
              "    <tr>\n",
              "      <td>3</td>\n",
              "      <td>3.293663</td>\n",
              "      <td>3.814256</td>\n",
              "      <td>0.336844</td>\n",
              "      <td>00:16</td>\n",
              "    </tr>\n",
              "    <tr>\n",
              "      <td>4</td>\n",
              "      <td>2.975452</td>\n",
              "      <td>3.795635</td>\n",
              "      <td>0.345410</td>\n",
              "      <td>00:16</td>\n",
              "    </tr>\n",
              "    <tr>\n",
              "      <td>5</td>\n",
              "      <td>2.506483</td>\n",
              "      <td>3.853560</td>\n",
              "      <td>0.347447</td>\n",
              "      <td>00:16</td>\n",
              "    </tr>\n",
              "    <tr>\n",
              "      <td>6</td>\n",
              "      <td>1.908213</td>\n",
              "      <td>4.021800</td>\n",
              "      <td>0.345982</td>\n",
              "      <td>00:16</td>\n",
              "    </tr>\n",
              "    <tr>\n",
              "      <td>7</td>\n",
              "      <td>1.432615</td>\n",
              "      <td>4.156212</td>\n",
              "      <td>0.342759</td>\n",
              "      <td>00:16</td>\n",
              "    </tr>\n",
              "  </tbody>\n",
              "</table>"
            ],
            "text/plain": [
              "<IPython.core.display.HTML object>"
            ]
          },
          "metadata": {
            "tags": []
          }
        }
      ]
    },
    {
      "cell_type": "code",
      "metadata": {
        "id": "mKlqanLnqhlf",
        "colab_type": "code",
        "outputId": "812975a1-bcbf-4856-970d-f730833be271",
        "colab": {
          "base_uri": "https://localhost:8080/",
          "height": 34
        }
      },
      "source": [
        "learn_lm.predict('फिल्म अच्छी थी लेकिन', n_words = 25).replace('▁','')"
      ],
      "execution_count": 0,
      "outputs": [
        {
          "output_type": "execute_result",
          "data": {
            "text/plain": [
              "'फिल्म अच्छी थी लेकिन एक रिवेंज स्टोरी होने के बावजूद यह फिल्म दर्शकों का मनोरंजन करती है । हीरो - हीरोइन का प्रेम सुपरहिट होता है और यही जगह'"
            ]
          },
          "metadata": {
            "tags": []
          },
          "execution_count": 50
        }
      ]
    },
    {
      "cell_type": "code",
      "metadata": {
        "id": "Uo13OHGLynEr",
        "colab_type": "code",
        "colab": {}
      },
      "source": [
        "learn_lm.save('/content/drive/My Drive/Hindi/models/fine_tuned_model')\n",
        "learn_lm.save_encoder('/content/drive/My Drive/Hindi/models/fine_tuned_enc')"
      ],
      "execution_count": 0,
      "outputs": []
    },
    {
      "cell_type": "markdown",
      "metadata": {
        "id": "6ka0U-8jG3pl",
        "colab_type": "text"
      },
      "source": [
        "# **Hindi Movies Reviews Text Classification**"
      ]
    },
    {
      "cell_type": "markdown",
      "metadata": {
        "id": "GOpCcqzeFi0G",
        "colab_type": "text"
      },
      "source": [
        "### **Creating 'Hindi movie reviews' Databunch object for classification**"
      ]
    },
    {
      "cell_type": "code",
      "metadata": {
        "id": "nr0fZwEVrKGY",
        "colab_type": "code",
        "outputId": "307f21a1-e568-4e34-9973-71fc665fcc9b",
        "colab": {
          "base_uri": "https://localhost:8080/",
          "height": 17
        }
      },
      "source": [
        "bs = 64\n",
        "data_cls = (TextList.from_df(train_df, vocab = data_lm.vocab, cols = 'text')\n",
        "           .split_by_rand_pct(0.1, seed=42)\n",
        "           .label_from_df(cols='experience')\n",
        "           .databunch(bs=bs, num_workers=1))\n",
        "\n",
        "# Saving Hindi-data-classifier\n",
        "data_cls.save('Hindi-data-classifier')"
      ],
      "execution_count": 0,
      "outputs": [
        {
          "output_type": "display_data",
          "data": {
            "text/html": [
              ""
            ],
            "text/plain": [
              "<IPython.core.display.HTML object>"
            ]
          },
          "metadata": {
            "tags": []
          }
        },
        {
          "output_type": "display_data",
          "data": {
            "text/html": [
              ""
            ],
            "text/plain": [
              "<IPython.core.display.HTML object>"
            ]
          },
          "metadata": {
            "tags": []
          }
        }
      ]
    },
    {
      "cell_type": "code",
      "metadata": {
        "id": "3IWR0jkyyp00",
        "colab_type": "code",
        "colab": {}
      },
      "source": [
        "bs = 32\n",
        "data_cls = load_data(path = '/content/drive/My Drive/Hindi/',  file = 'Hindi-data-classifier' , bs = bs)"
      ],
      "execution_count": 0,
      "outputs": []
    },
    {
      "cell_type": "code",
      "metadata": {
        "id": "csvdOv202kE5",
        "colab_type": "code",
        "colab": {}
      },
      "source": [
        "from sklearn.metrics import f1_score\n",
        "\n",
        "# function to measure f1_score using tensors\n",
        "# @np_func Converts a function that takes and returns numpy arrays to one that takes and returns tensors\n",
        "@np_func\n",
        "def f1(inp,target): \n",
        "  return f1_score(target, np.argmax(inp, axis= -1), average = None)"
      ],
      "execution_count": 0,
      "outputs": []
    },
    {
      "cell_type": "code",
      "metadata": {
        "id": "xn0qoC0V3Q1A",
        "colab_type": "code",
        "colab": {}
      },
      "source": [
        "# Creating Text Classification Learner using pretrained encoder from Hindi movie reviews dataset\n",
        "# fin_tuned_enc has been first trained on Hindi Wikipedia and then Hindi movie reviews dataset\n",
        "learn_cls = text_classifier_learner(data_cls, AWD_LSTM, drop_mult = 0.5, metrics = [accuracy,f1])\n",
        "learn_cls.load_encoder('/content/drive/My Drive/Hindi/models/fine_tuned_enc')\n",
        "learn_cls.freeze()"
      ],
      "execution_count": 0,
      "outputs": []
    },
    {
      "cell_type": "code",
      "metadata": {
        "id": "mdM7TPy5jy9x",
        "colab_type": "code",
        "outputId": "da5494b0-be27-408b-936b-9de3c8536319",
        "colab": {
          "base_uri": "https://localhost:8080/",
          "height": 501
        }
      },
      "source": [
        "learn_cls.lr_find()\n",
        "learn_cls.recorder.plot()"
      ],
      "execution_count": 8,
      "outputs": [
        {
          "output_type": "display_data",
          "data": {
            "text/html": [
              "\n",
              "    <div>\n",
              "        <style>\n",
              "            /* Turns off some styling */\n",
              "            progress {\n",
              "                /* gets rid of default border in Firefox and Opera. */\n",
              "                border: none;\n",
              "                /* Needs to be in here for Safari polyfill so background images work as expected. */\n",
              "                background-size: auto;\n",
              "            }\n",
              "            .progress-bar-interrupted, .progress-bar-interrupted::-webkit-progress-bar {\n",
              "                background: #F44336;\n",
              "            }\n",
              "        </style>\n",
              "      <progress value='4' class='' max='5' style='width:300px; height:20px; vertical-align: middle;'></progress>\n",
              "      80.00% [4/5 01:46<00:26]\n",
              "    </div>\n",
              "    \n",
              "<table border=\"1\" class=\"dataframe\">\n",
              "  <thead>\n",
              "    <tr style=\"text-align: left;\">\n",
              "      <th>epoch</th>\n",
              "      <th>train_loss</th>\n",
              "      <th>valid_loss</th>\n",
              "      <th>accuracy</th>\n",
              "      <th>f1</th>\n",
              "      <th>time</th>\n",
              "    </tr>\n",
              "  </thead>\n",
              "  <tbody>\n",
              "    <tr>\n",
              "      <td>0</td>\n",
              "      <td>1.148829</td>\n",
              "      <td>#na#</td>\n",
              "      <td>00:26</td>\n",
              "    </tr>\n",
              "    <tr>\n",
              "      <td>1</td>\n",
              "      <td>1.165967</td>\n",
              "      <td>#na#</td>\n",
              "      <td>00:26</td>\n",
              "    </tr>\n",
              "    <tr>\n",
              "      <td>2</td>\n",
              "      <td>1.104065</td>\n",
              "      <td>#na#</td>\n",
              "      <td>00:25</td>\n",
              "    </tr>\n",
              "    <tr>\n",
              "      <td>3</td>\n",
              "      <td>1.069686</td>\n",
              "      <td>#na#</td>\n",
              "      <td>00:27</td>\n",
              "    </tr>\n",
              "  </tbody>\n",
              "</table><p>\n",
              "\n",
              "    <div>\n",
              "        <style>\n",
              "            /* Turns off some styling */\n",
              "            progress {\n",
              "                /* gets rid of default border in Firefox and Opera. */\n",
              "                border: none;\n",
              "                /* Needs to be in here for Safari polyfill so background images work as expected. */\n",
              "                background-size: auto;\n",
              "            }\n",
              "            .progress-bar-interrupted, .progress-bar-interrupted::-webkit-progress-bar {\n",
              "                background: #F44336;\n",
              "            }\n",
              "        </style>\n",
              "      <progress value='15' class='' max='20' style='width:300px; height:20px; vertical-align: middle;'></progress>\n",
              "      75.00% [15/20 00:20<00:06 4.1518]\n",
              "    </div>\n",
              "    "
            ],
            "text/plain": [
              "<IPython.core.display.HTML object>"
            ]
          },
          "metadata": {
            "tags": []
          }
        },
        {
          "output_type": "stream",
          "text": [
            "LR Finder is complete, type {learner_name}.recorder.plot() to see the graph.\n"
          ],
          "name": "stdout"
        },
        {
          "output_type": "display_data",
          "data": {
            "image/png": "[encoded data removed]",
            "text/plain": [
              "<Figure size 432x288 with 1 Axes>"
            ]
          },
          "metadata": {
            "tags": [],
            "needs_background": "light"
          }
        }
      ]
    },
    {
      "cell_type": "code",
      "metadata": {
        "id": "iQA6pT8-5ZVm",
        "colab_type": "code",
        "colab": {
          "base_uri": "https://localhost:8080/",
          "height": 306
        },
        "outputId": "43e22aad-c444-4dc4-e549-e5f1fa3e907a"
      },
      "source": [
        "!nvidia-smi"
      ],
      "execution_count": 1,
      "outputs": [
        {
          "output_type": "stream",
          "text": [
            "Tue May 26 12:19:22 2020       \n",
            "+-----------------------------------------------------------------------------+\n",
            "| NVIDIA-SMI 440.82       Driver Version: 418.67       CUDA Version: 10.1     |\n",
            "|-------------------------------+----------------------+----------------------+\n",
            "| GPU  Name        Persistence-M| Bus-Id        Disp.A | Volatile Uncorr. ECC |\n",
            "| Fan  Temp  Perf  Pwr:Usage/Cap|         Memory-Usage | GPU-Util  Compute M. |\n",
            "|===============================+======================+======================|\n",
            "|   0  Tesla K80           Off  | 00000000:00:04.0 Off |                    0 |\n",
            "| N/A   70C    P8    34W / 149W |      0MiB / 11441MiB |      0%      Default |\n",
            "+-------------------------------+----------------------+----------------------+\n",
            "                                                                               \n",
            "+-----------------------------------------------------------------------------+\n",
            "| Processes:                                                       GPU Memory |\n",
            "|  GPU       PID   Type   Process name                             Usage      |\n",
            "|=============================================================================|\n",
            "|  No running processes found                                                 |\n",
            "+-----------------------------------------------------------------------------+\n"
          ],
          "name": "stdout"
        }
      ]
    },
    {
      "cell_type": "code",
      "metadata": {
        "id": "P3x5jWauj2bh",
        "colab_type": "code",
        "colab": {}
      },
      "source": [
        "lr = 1e-3"
      ],
      "execution_count": 0,
      "outputs": []
    },
    {
      "cell_type": "code",
      "metadata": {
        "id": "MfPx7NDgkSfn",
        "colab_type": "code",
        "outputId": "a6f1058d-e223-436f-dcdd-ff0d60ddd28b",
        "colab": {
          "base_uri": "https://localhost:8080/",
          "height": 111
        }
      },
      "source": [
        "# Training the last group of parameters\n",
        "learn_cls.fit_one_cycle(2,lr,moms = (0.8,0.7))"
      ],
      "execution_count": 10,
      "outputs": [
        {
          "output_type": "display_data",
          "data": {
            "text/html": [
              "<table border=\"1\" class=\"dataframe\">\n",
              "  <thead>\n",
              "    <tr style=\"text-align: left;\">\n",
              "      <th>epoch</th>\n",
              "      <th>train_loss</th>\n",
              "      <th>valid_loss</th>\n",
              "      <th>accuracy</th>\n",
              "      <th>f1</th>\n",
              "      <th>time</th>\n",
              "    </tr>\n",
              "  </thead>\n",
              "  <tbody>\n",
              "    <tr>\n",
              "      <td>0</td>\n",
              "      <td>1.120934</td>\n",
              "      <td>1.062316</td>\n",
              "      <td>0.436620</td>\n",
              "      <td>0.437388</td>\n",
              "      <td>0.262911</td>\n",
              "      <td>00:31</td>\n",
              "    </tr>\n",
              "    <tr>\n",
              "      <td>1</td>\n",
              "      <td>1.031270</td>\n",
              "      <td>1.035382</td>\n",
              "      <td>0.408451</td>\n",
              "      <td>0.462856</td>\n",
              "      <td>0.346537</td>\n",
              "      <td>00:30</td>\n",
              "    </tr>\n",
              "  </tbody>\n",
              "</table>"
            ],
            "text/plain": [
              "<IPython.core.display.HTML object>"
            ]
          },
          "metadata": {
            "tags": []
          }
        }
      ]
    },
    {
      "cell_type": "code",
      "metadata": {
        "id": "YHCJeAW7kgG_",
        "colab_type": "code",
        "outputId": "a5dd2cd7-fb1e-4d2f-a31e-47126301f983",
        "colab": {
          "base_uri": "https://localhost:8080/",
          "height": 111
        }
      },
      "source": [
        "# Training the last 2 groups of parameters\n",
        "learn_cls.freeze_to(-2)\n",
        "learn_cls.fit_one_cycle(2, slice(lr/(2.6**4),lr), moms=(0.8,0.7))"
      ],
      "execution_count": 11,
      "outputs": [
        {
          "output_type": "display_data",
          "data": {
            "text/html": [
              "<table border=\"1\" class=\"dataframe\">\n",
              "  <thead>\n",
              "    <tr style=\"text-align: left;\">\n",
              "      <th>epoch</th>\n",
              "      <th>train_loss</th>\n",
              "      <th>valid_loss</th>\n",
              "      <th>accuracy</th>\n",
              "      <th>f1</th>\n",
              "      <th>time</th>\n",
              "    </tr>\n",
              "  </thead>\n",
              "  <tbody>\n",
              "    <tr>\n",
              "      <td>0</td>\n",
              "      <td>0.920266</td>\n",
              "      <td>0.945711</td>\n",
              "      <td>0.492958</td>\n",
              "      <td>0.486495</td>\n",
              "      <td>0.409902</td>\n",
              "      <td>00:35</td>\n",
              "    </tr>\n",
              "    <tr>\n",
              "      <td>1</td>\n",
              "      <td>0.892811</td>\n",
              "      <td>0.891039</td>\n",
              "      <td>0.507042</td>\n",
              "      <td>0.513615</td>\n",
              "      <td>0.399723</td>\n",
              "      <td>00:36</td>\n",
              "    </tr>\n",
              "  </tbody>\n",
              "</table>"
            ],
            "text/plain": [
              "<IPython.core.display.HTML object>"
            ]
          },
          "metadata": {
            "tags": []
          }
        }
      ]
    },
    {
      "cell_type": "code",
      "metadata": {
        "id": "Y_8cm7SOmRG_",
        "colab_type": "code",
        "outputId": "a7ef097b-30a9-4bb3-8584-fb85ade974d3",
        "colab": {
          "base_uri": "https://localhost:8080/",
          "height": 111
        }
      },
      "source": [
        "# Training the last 3 groups of parameters\n",
        "learn_cls.freeze_to(-3)\n",
        "learn_cls.fit_one_cycle(2, slice(lr/2/(2.6**4),lr/2), moms=(0.8,0.7))"
      ],
      "execution_count": 12,
      "outputs": [
        {
          "output_type": "display_data",
          "data": {
            "text/html": [
              "<table border=\"1\" class=\"dataframe\">\n",
              "  <thead>\n",
              "    <tr style=\"text-align: left;\">\n",
              "      <th>epoch</th>\n",
              "      <th>train_loss</th>\n",
              "      <th>valid_loss</th>\n",
              "      <th>accuracy</th>\n",
              "      <th>f1</th>\n",
              "      <th>time</th>\n",
              "    </tr>\n",
              "  </thead>\n",
              "  <tbody>\n",
              "    <tr>\n",
              "      <td>0</td>\n",
              "      <td>0.844726</td>\n",
              "      <td>0.845897</td>\n",
              "      <td>0.591549</td>\n",
              "      <td>0.609155</td>\n",
              "      <td>0.399991</td>\n",
              "      <td>00:55</td>\n",
              "    </tr>\n",
              "    <tr>\n",
              "      <td>1</td>\n",
              "      <td>0.821365</td>\n",
              "      <td>0.842393</td>\n",
              "      <td>0.549296</td>\n",
              "      <td>0.591820</td>\n",
              "      <td>0.384038</td>\n",
              "      <td>00:55</td>\n",
              "    </tr>\n",
              "  </tbody>\n",
              "</table>"
            ],
            "text/plain": [
              "<IPython.core.display.HTML object>"
            ]
          },
          "metadata": {
            "tags": []
          }
        }
      ]
    },
    {
      "cell_type": "code",
      "metadata": {
        "id": "9LYj0_cYmubL",
        "colab_type": "code",
        "outputId": "2f9ad003-ed1e-429e-f3b0-e37bced205a1",
        "colab": {
          "base_uri": "https://localhost:8080/",
          "height": 111
        }
      },
      "source": [
        "# Training all parameter groups from start till end\n",
        "learn_cls.unfreeze()\n",
        "learn_cls.fit_one_cycle(2, slice(lr/10/(2.6**4),lr/10), moms=(0.8,0.7))"
      ],
      "execution_count": 13,
      "outputs": [
        {
          "output_type": "display_data",
          "data": {
            "text/html": [
              "<table border=\"1\" class=\"dataframe\">\n",
              "  <thead>\n",
              "    <tr style=\"text-align: left;\">\n",
              "      <th>epoch</th>\n",
              "      <th>train_loss</th>\n",
              "      <th>valid_loss</th>\n",
              "      <th>accuracy</th>\n",
              "      <th>f1</th>\n",
              "      <th>time</th>\n",
              "    </tr>\n",
              "  </thead>\n",
              "  <tbody>\n",
              "    <tr>\n",
              "      <td>0</td>\n",
              "      <td>0.825392</td>\n",
              "      <td>0.831216</td>\n",
              "      <td>0.605634</td>\n",
              "      <td>0.639637</td>\n",
              "      <td>0.468643</td>\n",
              "      <td>01:06</td>\n",
              "    </tr>\n",
              "    <tr>\n",
              "      <td>1</td>\n",
              "      <td>0.805300</td>\n",
              "      <td>0.814182</td>\n",
              "      <td>0.633803</td>\n",
              "      <td>0.637061</td>\n",
              "      <td>0.429108</td>\n",
              "      <td>01:07</td>\n",
              "    </tr>\n",
              "  </tbody>\n",
              "</table>"
            ],
            "text/plain": [
              "<IPython.core.display.HTML object>"
            ]
          },
          "metadata": {
            "tags": []
          }
        }
      ]
    },
    {
      "cell_type": "code",
      "metadata": {
        "id": "UcdvgEvPpJ2v",
        "colab_type": "code",
        "outputId": "efe3fb64-f47d-4608-c7d5-d9b2ccdd3d1d",
        "colab": {
          "base_uri": "https://localhost:8080/",
          "height": 80
        }
      },
      "source": [
        "learn_cls.fit_one_cycle(2, slice(lr/20/(2.6**4),lr/20), moms=(0.8,0.7))"
      ],
      "execution_count": 15,
      "outputs": [
        {
          "output_type": "display_data",
          "data": {
            "text/html": [
              "<table border=\"1\" class=\"dataframe\">\n",
              "  <thead>\n",
              "    <tr style=\"text-align: left;\">\n",
              "      <th>epoch</th>\n",
              "      <th>train_loss</th>\n",
              "      <th>valid_loss</th>\n",
              "      <th>accuracy</th>\n",
              "      <th>f1</th>\n",
              "      <th>time</th>\n",
              "    </tr>\n",
              "  </thead>\n",
              "  <tbody>\n",
              "    <tr>\n",
              "      <td>0</td>\n",
              "      <td>0.781778</td>\n",
              "      <td>0.812103</td>\n",
              "      <td>0.647887</td>\n",
              "      <td>0.592936</td>\n",
              "      <td>0.429108</td>\n",
              "      <td>01:08</td>\n",
              "    </tr>\n",
              "  </tbody>\n",
              "</table>"
            ],
            "text/plain": [
              "<IPython.core.display.HTML object>"
            ]
          },
          "metadata": {
            "tags": []
          }
        }
      ]
    },
    {
      "cell_type": "code",
      "metadata": {
        "id": "0CrUhZjQ-s-l",
        "colab_type": "code",
        "colab": {
          "base_uri": "https://localhost:8080/",
          "height": 34
        },
        "outputId": "8346729e-4211-48b2-e10e-f8ca4f95fbc5"
      },
      "source": [
        "pwd"
      ],
      "execution_count": 17,
      "outputs": [
        {
          "output_type": "execute_result",
          "data": {
            "text/plain": [
              "'/content/drive/My Drive/Hindi'"
            ]
          },
          "metadata": {
            "tags": []
          },
          "execution_count": 17
        }
      ]
    },
    {
      "cell_type": "code",
      "metadata": {
        "id": "Rfvgc9E54AP0",
        "colab_type": "code",
        "colab": {}
      },
      "source": [
        "learn_cls.save('./Text_classifier_model')"
      ],
      "execution_count": 0,
      "outputs": []
    },
    {
      "cell_type": "code",
      "metadata": {
        "id": "51vv5MXt471h",
        "colab_type": "code",
        "colab": {}
      },
      "source": [
        "learn_cls = learn_cls.load('/content/drive/My Drive/Hindi/models/Text_classifier_model')"
      ],
      "execution_count": 0,
      "outputs": []
    },
    {
      "cell_type": "code",
      "metadata": {
        "id": "-4tXSWOJ45nJ",
        "colab_type": "code",
        "colab": {}
      },
      "source": [
        "# Loading Validation/Test set\n",
        "test_df = pd.read_csv('/content/drive/My Drive/Hindi/hindi-movie-reviews-dataset/valid.csv')\n",
        "test_df = test_df.values"
      ],
      "execution_count": 0,
      "outputs": []
    },
    {
      "cell_type": "code",
      "metadata": {
        "id": "82HaRg-0A6P_",
        "colab_type": "code",
        "colab": {}
      },
      "source": [
        "preds = []\n",
        "targets = []\n",
        "for i in range(len(test_df)):\n",
        "  preds.append(int(learn_cls.predict(test_df[i][0])[1]))\n",
        "  targets.append(int(test_df[i][1]))  "
      ],
      "execution_count": 0,
      "outputs": []
    },
    {
      "cell_type": "code",
      "metadata": {
        "id": "IAc2NCPP4oA5",
        "colab_type": "code",
        "colab": {
          "base_uri": "https://localhost:8080/",
          "height": 34
        },
        "outputId": "0931b12e-bb83-4834-b9e7-56f82d7c1796"
      },
      "source": [
        "preds = np.array(preds)\n",
        "targets = np.array(targets)\n",
        "accuracy_on_test = np.sum(preds == targets)/len(test_df)\n",
        "print(accuracy_on_test)"
      ],
      "execution_count": 69,
      "outputs": [
        {
          "output_type": "stream",
          "text": [
            "0.6277777777777778\n"
          ],
          "name": "stdout"
        }
      ]
    },
    {
      "cell_type": "markdown",
      "metadata": {
        "id": "r9QsihbmuSJF",
        "colab_type": "text"
      },
      "source": [
        "## **62.7% accuracy on Hindi Movie reviews Test set**"
      ]
    },
    {
      "cell_type": "code",
      "metadata": {
        "id": "EKD2vyprJiRb",
        "colab_type": "code",
        "colab": {}
      },
      "source": [
        ""
      ],
      "execution_count": 0,
      "outputs": []
    }
  ]
}